{
 "cells": [
  {
   "cell_type": "markdown",
   "id": "040afa9a",
   "metadata": {},
   "source": [
    "                                            Data Processing "
   ]
  },
  {
   "cell_type": "code",
   "execution_count": 6,
   "id": "2458f30d",
   "metadata": {},
   "outputs": [
    {
     "name": "stdout",
     "output_type": "stream",
     "text": [
      "    longitude  latitude  housing_median_age  total_rooms  population  median_income  median_house_value ocean_proximity\n",
      "0     -122.23     37.88             41.0000          880         322         8.3252              452600        NEAR BAY\n",
      "1     -122.23     37.88             41.0000          880         322         8.3252              452600        NEAR BAY\n",
      "2     -122.22     37.86             21.0000         7099        2401         8.3014              358500        NEAR BAY\n",
      "3     -122.25     37.84             52.0001         3104        1157         3.1200              241400        NEAR BAY\n",
      "4     -122.26     37.85             52.0000         3503        1504         3.2705              241800        NEAR BAY\n",
      "5     -121.65     39.32             40.0000          812         374         2.7891               73500          INLAND\n",
      "6     -121.69     39.36             29.0000         2220        1170         2.3224               56200          INLAND\n",
      "7     -121.70     39.37             32.0000         1852         911         1.7885               57000          INLAND\n",
      "8     -121.70     39.36             46.0000         1210         523         1.9100               63900          INLAND\n",
      "9     -121.70     39.36             37.0000         2330        1505         2.0474               56000          INLAND\n",
      "10    -121.69     39.36             34.0000          842         635         1.8355               63000          INLAND\n",
      "11    -121.74     39.38             27.0000         2596        1100         2.3243               85500             NaN\n",
      "12    -121.80     39.33             30.0000         1019         501         2.5259               81300          INLAND\n",
      "13    -120.46     38.15             16.0000         4221        1516         2.3816              116000          INLAND\n",
      "14    -120.55     38.12             10.0000         1566         785         2.5000              116100          INLAND\n",
      "15    -120.56     38.09             34.0000         2745        1150         2.3654               94900          INLAND\n",
      "16    -124.23     41.75             11.0000         3159        1343         2.4805               73200      NEAR OCEAN\n",
      "17    -124.21     41.77             17.0000         3461        1947         2.5795               68400          NEAR O\n",
      "18    -124.19     41.78             15.0000         3140        1645         1.6654               74600          NEAR O\n",
      "19    -124.16     41.74             15.0000         2715        1532         2.1829               69500      NEAR OCEAN\n",
      "20    -124.14     41.95             21.0000         2696        1208            NaN              122400      NEAR OCEAN\n",
      "21    -124.16     41.92             19.0000         1668         841         2.1336               75000      NEAR OCEAN\n",
      "22    -118.32     33.35             27.0000         1675         744         2.1579              450000          ISLAND\n",
      "23    -118.33     33.34             52.0000         2359        1100         2.8333              414700          ISLAND\n",
      "24    -118.32     33.33             52.0000         2127         733         3.3906              300000          ISLAND\n",
      "25    -118.32     33.34             52.0000          996         341         2.7361              450000          ISLAND\n",
      "26    -118.48     33.43             29.0000          716         422         2.6042              287500          ISLAND\n",
      "27    -118.48     33.43             29.0000          716         422         2.6042              287500          ISLAND\n"
     ]
    }
   ],
   "source": [
    "# importing pandas library as pd\n",
    "import pandas as pd\n",
    "#reading the Dataset.csv file downloaded from moodle and loading its content to pandas data frame as DataFrame\n",
    "DataFrame=pd.read_csv('C:/Users/Rabin Thapa Kshetry/Downloads/Dataset.csv')\n",
    "# converting the dataframe into string and printing the content\n",
    "print(DataFrame.to_string())"
   ]
  },
  {
   "cell_type": "code",
   "execution_count": 7,
   "id": "d5fce6e2",
   "metadata": {},
   "outputs": [
    {
     "name": "stdout",
     "output_type": "stream",
     "text": [
      "0     False\n",
      "1      True\n",
      "2     False\n",
      "3     False\n",
      "4     False\n",
      "5     False\n",
      "6     False\n",
      "7     False\n",
      "8     False\n",
      "9     False\n",
      "10    False\n",
      "11    False\n",
      "12    False\n",
      "13    False\n",
      "14    False\n",
      "15    False\n",
      "16    False\n",
      "17    False\n",
      "18    False\n",
      "19    False\n",
      "20    False\n",
      "21    False\n",
      "22    False\n",
      "23    False\n",
      "24    False\n",
      "25    False\n",
      "26    False\n",
      "27     True\n",
      "dtype: bool\n"
     ]
    }
   ],
   "source": [
    "# Checking for the duplicate data in the datset\n",
    "#rows containing duplicate data is represented with True\n",
    "print(DataFrame.duplicated())"
   ]
  },
  {
   "cell_type": "code",
   "execution_count": 24,
   "id": "8ec7e827",
   "metadata": {},
   "outputs": [
    {
     "name": "stdout",
     "output_type": "stream",
     "text": [
      "    longitude  latitude  housing_median_age  total_rooms  population  median_income  median_house_value ocean_proximity\n",
      "0     -122.23     37.88             41.0000          880         322         8.3252              452600        NEAR BAY\n",
      "2     -122.22     37.86             21.0000         7099        2401         8.3014              358500        NEAR BAY\n",
      "3     -122.25     37.84             52.0001         3104        1157         3.1200              241400        NEAR BAY\n",
      "4     -122.26     37.85             52.0000         3503        1504         3.2705              241800        NEAR BAY\n",
      "5     -121.65     39.32             40.0000          812         374         2.7891               73500          INLAND\n",
      "6     -121.69     39.36             29.0000         2220        1170         2.3224               56200          INLAND\n",
      "7     -121.70     39.37             32.0000         1852         911         1.7885               57000          INLAND\n",
      "8     -121.70     39.36             46.0000         1210         523         1.9100               63900          INLAND\n",
      "9     -121.70     39.36             37.0000         2330        1505         2.0474               56000          INLAND\n",
      "10    -121.69     39.36             34.0000          842         635         1.8355               63000          INLAND\n",
      "11    -121.74     39.38             27.0000         2596        1100         2.3243               85500             NaN\n",
      "12    -121.80     39.33             30.0000         1019         501         2.5259               81300          INLAND\n",
      "13    -120.46     38.15             16.0000         4221        1516         2.3816              116000          INLAND\n",
      "14    -120.55     38.12             10.0000         1566         785         2.5000              116100          INLAND\n",
      "15    -120.56     38.09             34.0000         2745        1150         2.3654               94900          INLAND\n",
      "16    -124.23     41.75             11.0000         3159        1343         2.4805               73200      NEAR OCEAN\n",
      "17    -124.21     41.77             17.0000         3461        1947         2.5795               68400          NEAR O\n",
      "18    -124.19     41.78             15.0000         3140        1645         1.6654               74600          NEAR O\n",
      "19    -124.16     41.74             15.0000         2715        1532         2.1829               69500      NEAR OCEAN\n",
      "20    -124.14     41.95             21.0000         2696        1208            NaN              122400      NEAR OCEAN\n",
      "21    -124.16     41.92             19.0000         1668         841         2.1336               75000      NEAR OCEAN\n",
      "22    -118.32     33.35             27.0000         1675         744         2.1579              450000          ISLAND\n",
      "23    -118.33     33.34             52.0000         2359        1100         2.8333              414700          ISLAND\n",
      "24    -118.32     33.33             52.0000         2127         733         3.3906              300000          ISLAND\n",
      "25    -118.32     33.34             52.0000          996         341         2.7361              450000          ISLAND\n",
      "26    -118.48     33.43             29.0000          716         422         2.6042              287500          ISLAND\n"
     ]
    }
   ],
   "source": [
    "#duplicates are removed from DataFrame and the updated content is loaded into NewDataFrame\n",
    "NewDataFrame=DataFrame.drop_duplicates()\n",
    "#Updated Dataframe NewDataFrame is converted to string and is displayed\n",
    "print(NewDataFrame.to_string())"
   ]
  },
  {
   "cell_type": "code",
   "execution_count": 25,
   "id": "68625446",
   "metadata": {},
   "outputs": [
    {
     "name": "stdout",
     "output_type": "stream",
     "text": [
      "    longitude  latitude  housing_median_age  total_rooms  population  median_income  median_house_value ocean_proximity\n",
      "0     -122.23     37.88             41.0000          880         322         8.3252              452600        NEAR BAY\n",
      "2     -122.22     37.86             21.0000         7099        2401         8.3014              358500        NEAR BAY\n",
      "3     -122.25     37.84             52.0001         3104        1157         3.1200              241400        NEAR BAY\n",
      "4     -122.26     37.85             52.0000         3503        1504         3.2705              241800        NEAR BAY\n",
      "5     -121.65     39.32             40.0000          812         374         2.7891               73500          INLAND\n",
      "6     -121.69     39.36             29.0000         2220        1170         2.3224               56200          INLAND\n",
      "7     -121.70     39.37             32.0000         1852         911         1.7885               57000          INLAND\n",
      "8     -121.70     39.36             46.0000         1210         523         1.9100               63900          INLAND\n",
      "9     -121.70     39.36             37.0000         2330        1505         2.0474               56000          INLAND\n",
      "10    -121.69     39.36             34.0000          842         635         1.8355               63000          INLAND\n",
      "12    -121.80     39.33             30.0000         1019         501         2.5259               81300          INLAND\n",
      "13    -120.46     38.15             16.0000         4221        1516         2.3816              116000          INLAND\n",
      "14    -120.55     38.12             10.0000         1566         785         2.5000              116100          INLAND\n",
      "15    -120.56     38.09             34.0000         2745        1150         2.3654               94900          INLAND\n",
      "16    -124.23     41.75             11.0000         3159        1343         2.4805               73200      NEAR OCEAN\n",
      "17    -124.21     41.77             17.0000         3461        1947         2.5795               68400          NEAR O\n",
      "18    -124.19     41.78             15.0000         3140        1645         1.6654               74600          NEAR O\n",
      "19    -124.16     41.74             15.0000         2715        1532         2.1829               69500      NEAR OCEAN\n",
      "21    -124.16     41.92             19.0000         1668         841         2.1336               75000      NEAR OCEAN\n",
      "22    -118.32     33.35             27.0000         1675         744         2.1579              450000          ISLAND\n",
      "23    -118.33     33.34             52.0000         2359        1100         2.8333              414700          ISLAND\n",
      "24    -118.32     33.33             52.0000         2127         733         3.3906              300000          ISLAND\n",
      "25    -118.32     33.34             52.0000          996         341         2.7361              450000          ISLAND\n",
      "26    -118.48     33.43             29.0000          716         422         2.6042              287500          ISLAND\n"
     ]
    }
   ],
   "source": [
    "#All the rows having NaN are dropped and the updated content is loaded into NewDataFrame1\n",
    "NewDataFrame1=NewDataFrame.dropna()\n",
    "# Updated Dataset from NewDataFrame1 is converted into string and is displayed\n",
    "print(NewDataFrame1.to_string())"
   ]
  },
  {
   "cell_type": "code",
   "execution_count": 26,
   "id": "bff9d3c6",
   "metadata": {},
   "outputs": [
    {
     "name": "stdout",
     "output_type": "stream",
     "text": [
      "    longitude  latitude  housing_median_age  total_rooms  population  median_income  median_house_value ocean_proximity\n",
      "0     -122.23     37.88             41.0000          880         322         8.3252              452600        NEAR BAY\n",
      "1     -122.22     37.86             21.0000         7099        2401         8.3014              358500        NEAR BAY\n",
      "2     -122.25     37.84             52.0001         3104        1157         3.1200              241400        NEAR BAY\n",
      "3     -122.26     37.85             52.0000         3503        1504         3.2705              241800        NEAR BAY\n",
      "4     -121.65     39.32             40.0000          812         374         2.7891               73500          INLAND\n",
      "5     -121.69     39.36             29.0000         2220        1170         2.3224               56200          INLAND\n",
      "6     -121.70     39.37             32.0000         1852         911         1.7885               57000          INLAND\n",
      "7     -121.70     39.36             46.0000         1210         523         1.9100               63900          INLAND\n",
      "8     -121.70     39.36             37.0000         2330        1505         2.0474               56000          INLAND\n",
      "9     -121.69     39.36             34.0000          842         635         1.8355               63000          INLAND\n",
      "10    -121.80     39.33             30.0000         1019         501         2.5259               81300          INLAND\n",
      "11    -120.46     38.15             16.0000         4221        1516         2.3816              116000          INLAND\n",
      "12    -120.55     38.12             10.0000         1566         785         2.5000              116100          INLAND\n",
      "13    -120.56     38.09             34.0000         2745        1150         2.3654               94900          INLAND\n",
      "14    -124.23     41.75             11.0000         3159        1343         2.4805               73200      NEAR OCEAN\n",
      "15    -124.21     41.77             17.0000         3461        1947         2.5795               68400          NEAR O\n",
      "16    -124.19     41.78             15.0000         3140        1645         1.6654               74600          NEAR O\n",
      "17    -124.16     41.74             15.0000         2715        1532         2.1829               69500      NEAR OCEAN\n",
      "18    -124.16     41.92             19.0000         1668         841         2.1336               75000      NEAR OCEAN\n",
      "19    -118.32     33.35             27.0000         1675         744         2.1579              450000          ISLAND\n",
      "20    -118.33     33.34             52.0000         2359        1100         2.8333              414700          ISLAND\n",
      "21    -118.32     33.33             52.0000         2127         733         3.3906              300000          ISLAND\n",
      "22    -118.32     33.34             52.0000          996         341         2.7361              450000          ISLAND\n",
      "23    -118.48     33.43             29.0000          716         422         2.6042              287500          ISLAND\n"
     ]
    }
   ],
   "source": [
    "# after dropping the duplicate rows and rows with missing values the index is reset and the dataframe is displayed\n",
    "NewDataFrame1.reset_index(drop=True, inplace=True)\n",
    "print(NewDataFrame1.to_string())"
   ]
  },
  {
   "cell_type": "code",
   "execution_count": 28,
   "id": "376569c3",
   "metadata": {},
   "outputs": [],
   "source": [
    "#Updated data frame is loaded into a new csv file UpdatedDataset.csv\n",
    "NewDataFrame1.to_csv('C:/Users/Rabin Thapa Kshetry/Downloads/UpdatedDataset.csv')"
   ]
  },
  {
   "cell_type": "code",
   "execution_count": 39,
   "id": "c1dc5390",
   "metadata": {},
   "outputs": [
    {
     "name": "stdout",
     "output_type": "stream",
     "text": [
      "Mean : 180629.16666666666\n"
     ]
    }
   ],
   "source": [
    "# from the updated data frame NewDataFrame1 , Mean is calculated for column median_house_value and is displayed\n",
    "print('Mean :',NewDataFrame1.median_house_value.mean())"
   ]
  },
  {
   "cell_type": "code",
   "execution_count": 38,
   "id": "bd71495c",
   "metadata": {},
   "outputs": [
    {
     "name": "stdout",
     "output_type": "stream",
     "text": [
      "Median : 88100.0\n",
      "Range : 396600\n"
     ]
    }
   ],
   "source": [
    "# from the updated data frame NewDataFrame1 , Median is calculated for column median_house_value and is displayed\n",
    "print('Median :',NewDataFrame1.median_house_value.median())\n",
    "# from the updated data frame NewDataFrame1 , Range is calculated for column median_house_value and is displayed\n",
    "print('Range :',NewDataFrame1.median_house_value.max()-NewDataFrame1.median_house_value.min())"
   ]
  },
  {
   "cell_type": "code",
   "execution_count": 40,
   "id": "8cc06e3f",
   "metadata": {},
   "outputs": [
    {
     "name": "stdout",
     "output_type": "stream",
     "text": [
      "0     8325.2\n",
      "1     8301.4\n",
      "2     3120.0\n",
      "3     3270.5\n",
      "4     2789.1\n",
      "5     2322.4\n",
      "6     1788.5\n",
      "7     1910.0\n",
      "8     2047.4\n",
      "9     1835.5\n",
      "10    2525.9\n",
      "11    2381.6\n",
      "12    2500.0\n",
      "13    2365.4\n",
      "14    2480.5\n",
      "15    2579.5\n",
      "16    1665.4\n",
      "17    2182.9\n",
      "18    2133.6\n",
      "19    2157.9\n",
      "20    2833.3\n",
      "21    3390.6\n",
      "22    2736.1\n",
      "23    2604.2\n",
      "Name: median_income, dtype: float64\n"
     ]
    }
   ],
   "source": [
    "# column median_income has currencies in tens of thousands USD so it is converted into USD by multiplying with 1000\n",
    "# Updated median income is displayed\n",
    "print(NewDataFrame1.median_income*1000)"
   ]
  },
  {
   "cell_type": "markdown",
   "id": "ff9358f0",
   "metadata": {},
   "source": [
    "                                             Statistics with Python"
   ]
  },
  {
   "cell_type": "markdown",
   "id": "7c8256db",
   "metadata": {},
   "source": [
    "Part 1\n",
    "Initialise a two-dimensional array consisting of 5 rows and 10 columns of uniformly \n",
    "distributed data points of integer values from the interval [0..9]. Consider each row of the \n",
    "two-dimensional array as an independent dataset. Display the values on the screen as a \n",
    "table. Plot the first two rows on a single diagram with different colours."
   ]
  },
  {
   "cell_type": "code",
   "execution_count": 1,
   "id": "ef394791",
   "metadata": {},
   "outputs": [
    {
     "name": "stdout",
     "output_type": "stream",
     "text": [
      "[[6 5 6 7 4 4 8 4 2 5]\n",
      " [3 4 6 4 9 0 1 8 2 4]\n",
      " [3 3 0 3 9 1 2 6 3 3]\n",
      " [1 8 8 7 2 3 3 8 4 6]\n",
      " [4 3 9 7 9 6 9 5 5 5]]\n"
     ]
    }
   ],
   "source": [
    "# importing numpy library as np\n",
    "import numpy as np\n",
    "# importing matplotlib.pyplot library as plt\n",
    "import matplotlib.pyplot as plt\n",
    "# initialising 2D Array My2DArray with 5 rows and 10 columns of integer data type\n",
    "My2DArray= np.empty(shape=(5,10), dtype='int')\n",
    "# assigning values to My2DArray with random integers from 0 to 9\n",
    "for i in range(0, 5):\n",
    "     for j in range(0, 10):\n",
    "        My2DArray[i, j] = int(np.random.randint(0, 10))\n",
    "# displaying the My2DArray\n",
    "print(My2DArray)"
   ]
  },
  {
   "cell_type": "code",
   "execution_count": 2,
   "id": "4d0e13ba",
   "metadata": {},
   "outputs": [
    {
     "data": {
      "image/png": "[encoded data removed]",
      "text/plain": [
       "<Figure size 432x288 with 1 Axes>"
      ]
     },
     "metadata": {
      "needs_background": "light"
     },
     "output_type": "display_data"
    }
   ],
   "source": [
    "# Displaying the first two rows of My2DArray with two different colours red and green\n",
    "plt.plot(My2DArray[0, ], marker='o', color='g')\n",
    "plt.plot(My2DArray[1, ], marker='s', color='r')\n",
    "plt.show()"
   ]
  },
  {
   "cell_type": "markdown",
   "id": "9db9fd38",
   "metadata": {},
   "source": [
    "Part 2\n",
    "Provide the following information about each individual row:\n",
    "Mean\n",
    "Median\n",
    "Standard deviation"
   ]
  },
  {
   "cell_type": "code",
   "execution_count": 3,
   "id": "455d1054",
   "metadata": {},
   "outputs": [
    {
     "name": "stdout",
     "output_type": "stream",
     "text": [
      "Mean : [5.1 4.1 3.3 5.  6.2]\n",
      "Median : [5.  4.  3.  5.  5.5]\n",
      "Standard Deviation : [1.64012195 2.73678644 2.41039416 2.56904652 2.0880613 ]\n"
     ]
    }
   ],
   "source": [
    "# Calculating mean, median and standard Deviation of the above My2DArray for each row\n",
    "Mean = np.mean(My2DArray, axis=1)\n",
    "Median = np.median(My2DArray, axis=1)\n",
    "StandardDeviation = np.std(My2DArray, axis=1)\n",
    "# Displaying Mean\n",
    "print('Mean :', Mean)\n",
    "# displaying Median\n",
    "print('Median :', Median)\n",
    "# Displaying Standard Deviation\n",
    "print('Standard Deviation :', StandardDeviation)"
   ]
  },
  {
   "cell_type": "markdown",
   "id": "800e37dc",
   "metadata": {},
   "source": [
    "Part 3\n",
    "Initialise a one-dimensional array representing a normal distribution of 1000 data points \n",
    "with mean value 17 and standard deviation 0.2."
   ]
  },
  {
   "cell_type": "code",
   "execution_count": 4,
   "id": "fb108de8",
   "metadata": {},
   "outputs": [
    {
     "name": "stdout",
     "output_type": "stream",
     "text": [
      "[16.9708252  17.10329435 16.84983347 17.01848034 16.96420276 17.0171752\n",
      " 16.59083733 17.12589279 18.02825117 16.79525457 16.74376453 16.99636315\n",
      " 17.09519516 16.8039567  17.2077012  16.66233552 17.22623557 17.1951874\n",
      " 17.13987884 16.86167088 16.96646253 17.30526126 16.73890145 16.52559016\n",
      " 17.15647851 17.15549084 17.04646858 17.04776805 17.07698074 17.32993888\n",
      " 16.58160344 17.24229328 16.99098327 17.20958781 16.97836472 16.97838384\n",
      " 17.09433217 16.65913908 16.91613976 17.17517041 17.12157469 16.91476999\n",
      " 17.05737674 16.98156872 16.94378173 17.03782602 16.70511947 16.8637206\n",
      " 16.92696551 17.04808991 17.11111543 16.88980847 17.12391238 17.41385949\n",
      " 17.28619762 16.8320034  17.07228908 17.03917693 16.86253573 16.92993151\n",
      " 17.10843071 16.88003132 17.17474308 16.95249584 16.99793833 17.10866331\n",
      " 17.16600361 16.93851343 16.96526854 17.16525333 17.22138025 17.10322002\n",
      " 16.89923813 17.02060357 17.43561166 17.19609009 17.03165588 17.23372126\n",
      " 17.09208216 17.04304781 17.18190584 17.01798489 16.4859301  17.11190404\n",
      " 17.12905599 16.85116378 17.08104139 17.1320785  16.64603055 16.9679506\n",
      " 16.99531948 17.11564541 17.08940075 17.04533101 17.10575415 16.78868333\n",
      " 17.05161589 16.8438647  16.8815094  17.04774894 16.96486607 17.01450132\n",
      " 16.90185934 17.10776238 16.80736349 17.3529954  16.9363488  17.07121053\n",
      " 16.78921623 16.60240536 16.85825382 16.87532801 16.76023022 17.12238751\n",
      " 16.91787338 16.85048738 16.95833866 16.99947454 17.06088919 16.83643891\n",
      " 17.2522348  17.05217049 17.14837885 16.53337899 16.80854132 17.08628098\n",
      " 17.08379675 17.26470202 16.98826075 16.96919844 17.03490739 17.20350611\n",
      " 16.82552351 16.71783101 17.44077635 17.22162093 17.24361322 16.9212914\n",
      " 17.06919846 16.92502783 17.07606763 16.89958466 17.09118667 16.83523388\n",
      " 16.70658944 16.88928339 16.96260567 17.36501893 16.98515118 17.17384371\n",
      " 17.16628082 17.2959346  16.80427139 16.97464014 17.10122214 16.89677076\n",
      " 17.33246881 17.2523077  17.13986311 17.07057289 17.2150748  17.12741205\n",
      " 17.08376871 17.10088934 16.65129362 17.04455632 17.25807061 17.19115568\n",
      " 16.79459207 16.77442662 16.85253559 17.3590752  16.85556867 16.94440998\n",
      " 17.05696559 17.01115909 17.28770129 17.08742116 17.17592225 17.11588236\n",
      " 16.99823849 16.77664497 17.15010596 16.88435762 17.26411976 16.81595185\n",
      " 16.82210806 16.65283218 17.10771862 17.2340757  16.99665851 16.64873861\n",
      " 16.82134379 16.72746709 17.00431286 17.21673858 16.90510807 16.8463677\n",
      " 17.18280019 16.80542088 16.89472449 17.10037181 16.83711012 17.00135129\n",
      " 17.00874572 16.99783179 17.16398225 17.22865372 17.14737738 17.0996557\n",
      " 17.10657489 17.21328767 16.94390686 17.1537792  16.87489729 17.07283909\n",
      " 17.20836917 17.37131986 16.69017266 17.20567677 16.97808945 16.79913225\n",
      " 16.70380398 16.8724916  17.03252232 16.89850078 16.88408795 16.97346762\n",
      " 17.23339723 17.04195243 17.0275519  17.00620341 17.17886603 16.90377063\n",
      " 17.20132323 16.80290415 17.26582019 16.68420243 16.80053197 16.9960028\n",
      " 16.96866917 17.05164506 16.82632758 17.03032434 16.82354167 16.64106049\n",
      " 17.13593756 17.34870771 17.14281609 16.99220289 17.052428   17.52732139\n",
      " 16.99342531 16.66770241 17.00305936 17.09027684 16.84193284 16.82959777\n",
      " 17.16632308 16.81851197 16.9237809  17.13453492 16.96730844 16.866436\n",
      " 17.10277848 16.57638161 16.95820294 16.66691502 16.92976614 16.80044435\n",
      " 17.15201392 16.5912559  17.02425875 16.84970622 17.00570358 16.74924625\n",
      " 17.11434821 16.92575861 17.11432869 16.75028523 17.18001628 16.79577783\n",
      " 16.85949415 16.85008067 16.85889505 16.85301054 16.97229864 16.88285336\n",
      " 16.65469085 17.28179543 17.30206526 17.09270643 17.15656478 17.05335366\n",
      " 17.15350215 16.89347548 16.93408191 16.79039466 16.80840202 17.03477025\n",
      " 16.74758053 16.90044315 16.94144079 16.99452085 16.6672223  17.06986175\n",
      " 17.10176024 16.83192705 17.01691144 17.22779734 16.92028607 17.08287515\n",
      " 17.24404955 17.32598126 16.8081837  16.86964642 17.10385875 16.89896033\n",
      " 17.20956403 17.22051775 17.17849873 17.23204752 17.04205668 16.98160889\n",
      " 16.69857144 16.49791147 17.14802571 17.16820993 17.02735175 17.46621509\n",
      " 17.11052181 16.952617   17.17240287 17.10294119 17.40333102 17.16955651\n",
      " 16.96404657 17.11233377 17.05847238 16.96249681 16.92257111 17.19769051\n",
      " 17.0090786  17.04123943 16.71201863 16.84317903 17.00035626 16.97146085\n",
      " 17.09758915 17.0247867  16.74929285 17.30543072 16.82782531 17.13703829\n",
      " 17.02676736 16.87462177 17.0775039  16.80565957 16.95115358 16.90985352\n",
      " 16.80340183 17.10873009 16.91274701 16.87322641 16.90195072 16.97631006\n",
      " 16.94780362 16.97766234 16.94712514 17.20889329 17.01283533 16.80338844\n",
      " 17.42683592 16.85199469 16.75282352 16.81792487 16.59170507 17.02798138\n",
      " 16.6318098  17.13468677 16.99583437 16.83791603 17.32257712 17.09862586\n",
      " 17.41699674 16.80654724 16.940393   17.04519333 16.94646457 17.06708952\n",
      " 17.03486743 16.91932936 16.95061467 16.65918187 17.1213774  17.10714276\n",
      " 17.11975844 17.11843143 17.12803214 17.11791389 17.01518835 17.08277298\n",
      " 16.95494857 16.82961259 16.7132029  17.13720527 16.67171278 17.02142408\n",
      " 16.88077235 16.99929548 17.13361423 17.08850453 17.03807992 17.07343479\n",
      " 16.9007078  17.03300946 16.841209   17.17105918 16.78629694 17.23799863\n",
      " 17.06811725 16.93246466 16.87600905 17.22032644 16.94697843 16.89794683\n",
      " 16.90137661 17.19531588 16.93483659 17.18373979 17.13664391 16.94777186\n",
      " 16.78578644 17.03859981 17.00274266 16.88652407 17.11968626 17.1336666\n",
      " 16.98692742 16.98062653 17.11802383 16.76124887 16.91943159 16.36902283\n",
      " 16.86588787 16.7127571  16.87843425 17.00654718 17.20427809 17.14679308\n",
      " 17.0934114  16.76066288 16.6683018  16.86082348 16.96486427 16.89313629\n",
      " 17.09901411 16.77661062 17.18312251 16.67990307 17.02235284 17.15819046\n",
      " 16.92307187 17.22865131 16.76682063 16.94639713 16.89940115 17.31291159\n",
      " 17.17217816 16.67603976 16.90716984 16.96726758 17.19689344 17.10974818\n",
      " 17.05005094 17.05960024 16.75704078 17.03942061 17.30522896 16.89420032\n",
      " 16.80280866 16.84955291 17.12477763 17.00291477 16.91759661 17.10132987\n",
      " 17.23238904 17.38330366 17.02852651 17.01900786 16.9214559  16.80312566\n",
      " 17.13024873 17.13796832 17.01435166 16.89334764 16.96672617 16.80837626\n",
      " 16.47183598 17.07126133 17.05929717 16.77151491 17.1031268  17.14893496\n",
      " 17.33431934 16.65041968 16.89459439 17.19623767 16.75377983 17.26814456\n",
      " 16.89513555 17.32465807 17.20842409 16.78170716 17.05967859 17.03265003\n",
      " 16.7857652  16.96532264 17.29944454 17.06013147 16.55044997 17.07419614\n",
      " 17.03397097 16.64021453 16.95814844 17.34667174 17.08430563 16.85432421\n",
      " 17.2884277  16.66262626 16.74952524 16.93343051 17.24121694 17.24297218\n",
      " 16.88223729 17.33928097 16.89273577 17.19178386 16.75204053 17.16690012\n",
      " 17.28868679 16.55497824 17.05537767 16.90571063 17.18219977 16.89830203\n",
      " 16.99649868 16.77210015 16.82565143 16.70240165 16.7450654  16.78996805\n",
      " 16.97182941 17.1345919  16.79345896 16.86729953 16.97987748 16.88093728\n",
      " 16.94825986 17.00392261 17.1317454  16.9469602  17.06172942 16.95820823\n",
      " 16.87201842 16.92148892 17.01871858 17.52302824 16.77577307 17.1535392\n",
      " 16.9630294  17.28206495 17.15475465 16.9903246  16.73960153 16.85185427\n",
      " 16.72518102 16.93187415 16.95619696 16.9791243  16.82102999 16.99508936\n",
      " 17.19606459 16.99104481 17.01509622 17.11180269 17.19040412 16.86855458\n",
      " 16.89518107 17.14244106 16.99467016 17.1381544  16.87886973 17.05588912\n",
      " 16.94682865 17.04395663 16.92845353 17.3221134  17.06272524 17.35333993\n",
      " 16.83202427 17.07561709 17.00119702 16.97786657 16.83255461 17.24888023\n",
      " 16.99831196 16.99597078 17.05548983 17.05711976 17.09758667 16.89941553\n",
      " 16.87437365 17.3250174  16.9475526  16.98526788 17.32680184 16.76648513\n",
      " 16.95238842 16.90820991 16.91701412 16.83915397 16.94420589 17.13861254\n",
      " 16.73230292 17.14841002 16.93421203 16.80176258 17.27664679 16.63466811\n",
      " 16.9902893  17.03959058 17.29516399 16.88737038 17.16547685 16.76840838\n",
      " 16.72629849 17.29879406 17.06877558 16.83343835 17.19925179 16.66702529\n",
      " 16.82571808 16.65461816 17.19474742 17.18998893 16.92949388 17.07097389\n",
      " 17.00084468 16.94295591 16.49343674 16.77921591 17.22643891 17.09240452\n",
      " 17.34205571 17.25249576 17.09084895 16.8196449  16.82097983 16.74399747\n",
      " 16.94005247 17.21138226 16.76807122 16.70999682 17.37618726 16.70218966\n",
      " 16.90265087 17.27896885 16.95465307 16.35479792 16.79773158 17.07898715\n",
      " 16.91374854 17.31217164 17.3142246  17.23128724 17.29955747 16.7448087\n",
      " 17.28924529 17.14365161 16.97953212 16.98349358 16.75625367 16.934699\n",
      " 17.07555968 16.7649366  16.90815544 17.04242826 16.60971954 16.79262339\n",
      " 16.88109952 16.89921782 16.94025226 16.91379754 16.7853272  16.957697\n",
      " 17.05672005 17.07629229 17.21721404 17.3607398  17.16028044 16.7419307\n",
      " 17.49594938 17.40890017 16.79709488 16.83682908 17.19377801 16.73261218\n",
      " 16.87285232 16.88617512 17.14321473 17.22381015 17.24153196 17.09011836\n",
      " 16.71323416 17.01248223 16.93941399 16.70335505 17.04184503 17.04379111\n",
      " 16.73824736 17.4632433  16.95779545 16.79755479 17.35108602 16.85403639\n",
      " 16.96434975 16.93841263 17.01654705 16.88376083 17.13696038 16.73528672\n",
      " 17.42993232 17.06312305 17.18251583 16.96164712 16.65188653 17.00243914\n",
      " 17.09703868 16.92348868 17.01793181 16.88258218 17.14713072 16.69520763\n",
      " 16.84480843 16.8574205  17.30887063 17.12091248 17.14567457 16.94179325\n",
      " 17.1257248  16.94263649 17.34839129 17.28302633 16.95270091 16.61806553\n",
      " 17.26706521 17.06089075 16.98269157 17.06130739 16.96153905 17.19442625\n",
      " 16.89037799 17.55423422 17.04213079 17.13668608 16.91264494 17.01117771\n",
      " 17.21954203 16.66552924 17.09686177 17.06075965 16.9721095  17.09141043\n",
      " 17.12946929 16.72491943 16.8691344  16.90858691 17.32160955 16.94552398\n",
      " 17.10611491 16.88351182 17.03503098 17.2101407  16.70819178 17.25943985\n",
      " 17.22061491 17.01279693 17.04150193 16.86937955 17.10903552 16.85925559\n",
      " 17.03667682 16.66285549 17.07649284 17.02098562 17.25734978 17.06974681\n",
      " 17.29332312 17.01857238 17.08440178 16.97333711 16.81668184 17.11502385\n",
      " 16.47683409 17.07971589 17.00425043 16.94962631 17.06700768 16.37885287\n",
      " 16.93140961 16.97958383 16.98818855 17.09129455 16.7786555  17.13607551\n",
      " 17.06965303 17.20755804 17.30866524 17.36494041 16.96940448 17.12200502\n",
      " 17.01842547 17.28155542 16.7335368  17.17607127 16.89645629 17.08255379\n",
      " 16.920811   17.3065571  17.33409964 16.87986413 17.06446451 16.84962131\n",
      " 16.96677057 17.24619768 17.06306343 16.58801145 17.22988358 16.95109361\n",
      " 17.438926   16.86549431 17.16562098 17.10301155 17.17888546 17.14768001\n",
      " 17.07530112 16.94392824 17.47475755 17.07090077 16.91813994 17.13138043\n",
      " 16.99128274 17.05315077 16.65712722 16.74879807 17.08416373 16.74178356\n",
      " 16.85794933 16.55457394 16.72057516 16.91656122 17.22692176 17.06598942\n",
      " 16.85051338 17.00069132 16.98724144 17.01854469 16.87350691 16.84848483\n",
      " 17.03873532 17.26416365 17.01530443 16.68341367 16.94692828 17.18945025\n",
      " 16.89973003 17.21882125 16.84002329 16.8978091  17.04599988 16.47611952\n",
      " 17.07073971 16.99705472 16.60689793 16.87224497 16.96189485 16.83597926\n",
      " 17.28557653 17.05393165 17.15188797 17.17004732 16.97753554 17.0062991\n",
      " 17.03504603 16.86292646 16.62479062 16.67938154 17.10693536 17.20251028\n",
      " 16.81954611 16.90885242 17.03996767 16.86026561 16.94447654 16.9403851\n",
      " 17.08891452 17.12679612 16.91012478 16.94320902 17.39896532 17.04369007\n",
      " 17.32989591 16.69408192 17.0663532  16.87010028 16.75462435 16.97055871\n",
      " 16.93587096 17.2477298  16.67651158 17.22966684 16.89200428 16.79151051\n",
      " 16.98379033 17.31089812 17.09698257 16.98286626 16.89200944 17.23022\n",
      " 16.87736346 17.03388308 16.93824498 17.17869984 16.38956714 17.02793314\n",
      " 16.73084568 17.0593772  16.89198866 17.00133773 16.80375693 17.15916101\n",
      " 17.28848754 16.81149757 17.01658735 17.04818401 16.74169864 17.15424192\n",
      " 17.23224423 17.16687324 17.12457155 17.16174019 16.92267629 16.65948139\n",
      " 16.71315292 17.32866171 16.70539483 16.52965161 17.15474834 17.07516837\n",
      " 17.33572003 16.88064208 16.97388245 17.1562176  16.91046032 17.05423206\n",
      " 16.70832364 16.94939116 17.302172   16.99601843 16.67666083 17.12414928\n",
      " 17.25593056 16.69892447 16.76083471 16.28619476 17.11326538 17.081195\n",
      " 16.60059068 16.82203727 16.92537788 17.14071734 17.2428653  16.8278874\n",
      " 17.22709334 17.01967741 17.14221462 16.92584181 16.76739936 16.80413956\n",
      " 16.54961884 16.88311499 16.86776235 16.64967734 17.12464901 17.20891177\n",
      " 16.69889525 16.96242828 17.05385421 17.27093666]\n"
     ]
    }
   ],
   "source": [
    "# Generating normal distribution using mean as 17 and SD as 0.2\n",
    "Mean = float(17)\n",
    "SD = float(0.2)\n",
    "OneDimensionalArray = np.random.normal(Mean, SD, 1000)\n",
    "# Displaying the content of OneDimensionalArray\n",
    "print(OneDimensionalArray)"
   ]
  },
  {
   "cell_type": "markdown",
   "id": "84eb7a85",
   "metadata": {},
   "source": [
    "Part 4\n",
    "Find the maximum and the minimum values of the dataset and calculate the range."
   ]
  },
  {
   "cell_type": "code",
   "execution_count": 5,
   "id": "06014618",
   "metadata": {},
   "outputs": [
    {
     "name": "stdout",
     "output_type": "stream",
     "text": [
      "Maximum Value : 18.028251174540898\n",
      "Minimum Value : 16.28619476441503\n"
     ]
    }
   ],
   "source": [
    "# finding and displaying the maximum and minimum values from OneDimensionalArray\n",
    "print('Maximum Value :', np.max(OneDimensionalArray))\n",
    "print('Minimum Value :', np.min(OneDimensionalArray))"
   ]
  },
  {
   "cell_type": "markdown",
   "id": "b510c985",
   "metadata": {},
   "source": [
    "Part 5\n",
    "Visualise the dataset by using a histogram with 10 bins. Visualise the probability density \n",
    "function.\n",
    "Probability density function f:\n",
    "{f}\n",
    "Where X represents the data points, μ is the mean value and σ is the standard deviation"
   ]
  },
  {
   "cell_type": "code",
   "execution_count": 6,
   "id": "ae8d951e",
   "metadata": {},
   "outputs": [
    {
     "data": {
      "image/png": "[encoded data removed]",
      "text/plain": [
       "<Figure size 432x288 with 1 Axes>"
      ]
     },
     "metadata": {
      "needs_background": "light"
     },
     "output_type": "display_data"
    }
   ],
   "source": [
    "# creating a histogram for OneDimensionalArray with 10 bins\n",
    "A, X, C = plt.hist(OneDimensionalArray, bins=10)\n",
    "# displaying the histogram\n",
    "plt.show()\n"
   ]
  },
  {
   "cell_type": "code",
   "execution_count": 7,
   "id": "237fef0a",
   "metadata": {},
   "outputs": [
    {
     "data": {
      "image/png": "[encoded data removed]",
      "text/plain": [
       "<Figure size 432x288 with 1 Axes>"
      ]
     },
     "metadata": {
      "needs_background": "light"
     },
     "output_type": "display_data"
    }
   ],
   "source": [
    "# calculating the probability density function\n",
    "f = (1/(SD*np.sqrt(2*np.pi)))*np.exp(-((X-Mean)**2/(2*SD**2)))\n",
    "# Plotting the probability density function\n",
    "plt.plot(X, f)\n",
    "# displaying  the plot\n",
    "plt.show()"
   ]
  },
  {
   "cell_type": "markdown",
   "id": "239cc9ef",
   "metadata": {},
   "source": [
    "                                            Linear Algebra"
   ]
  },
  {
   "cell_type": "markdown",
   "id": "b418a915",
   "metadata": {},
   "source": [
    "Task 1\n",
    "Initialize the Matrix A with given integer values. Find the determinant, Trace and Inverse of Matrix A"
   ]
  },
  {
   "cell_type": "code",
   "execution_count": 8,
   "id": "473c187e",
   "metadata": {},
   "outputs": [
    {
     "name": "stdout",
     "output_type": "stream",
     "text": [
      "Matrix A= \n",
      " [[2 5 1]\n",
      " [4 3 7]\n",
      " [1 3 2]]\n",
      "Determinant of Matrix A=  -26.000000000000014\n",
      "Trace of Matrix A=  7\n",
      "Inverse of Matrix A= \n",
      " [[ 0.57692308  0.26923077 -1.23076923]\n",
      " [ 0.03846154 -0.11538462  0.38461538]\n",
      " [-0.34615385  0.03846154  0.53846154]]\n"
     ]
    }
   ],
   "source": [
    "# initiaizing matrix A with given integer values\n",
    "A= np.array([[2,5,1],[4,3,7],[1,3,2]], dtype='int')\n",
    "# finding determinant of matrix A\n",
    "D=np.linalg.det(A)\n",
    "# finding trace of matrix A\n",
    "T=np.trace(A)\n",
    "# finding inverse of matrix A\n",
    "I=np.linalg.inv(A)\n",
    "# displaying Matrix A\n",
    "print('Matrix A= \\n',A)\n",
    "# displaying determinant of Matrix A\n",
    "print('Determinant of Matrix A= ',D)\n",
    "# displaying trace of Matrix A\n",
    "print('Trace of Matrix A= ',T)\n",
    "# displaying Inverse of Matrix a\n",
    "print('Inverse of Matrix A= \\n',I)"
   ]
  },
  {
   "cell_type": "markdown",
   "id": "0fdf0d50",
   "metadata": {},
   "source": [
    "Task 2\n",
    "Initialize the following square matrices B and C.\n",
    "Find the product P of the matrices B and C by using the Python function for matrix\n",
    "multiplication. Display the result on the screen."
   ]
  },
  {
   "cell_type": "code",
   "execution_count": 9,
   "id": "e92e6d27",
   "metadata": {},
   "outputs": [
    {
     "name": "stdout",
     "output_type": "stream",
     "text": [
      "Matrix B= \n",
      " [[4 7 2]\n",
      " [3 2 5]\n",
      " [6 4 3]]\n",
      "Matrix C= \n",
      " [[3 1 9]\n",
      " [7 5 8]\n",
      " [2 1 1]]\n",
      "Product of Matrices B and C is \n",
      " [[65 41 94]\n",
      " [33 18 48]\n",
      " [52 29 89]]\n"
     ]
    }
   ],
   "source": [
    "# Initializing Matrices B and C with given integer values\n",
    "B=np.array([[4,7,2],[3,2,5],[6,4,3]], dtype='int')\n",
    "C= np.array([[3,1,9],[7,5,8],[2,1,1]], dtype='int')\n",
    "# Multiplying Matrices B and C and storing in Matrix P \n",
    "P= np.matmul(B,C)\n",
    "# displaying Matrices B and C\n",
    "print('Matrix B= \\n',B)\n",
    "print('Matrix C= \\n',C)\n",
    "# displaying product of B and C as P\n",
    "print('Product of Matrices B and C is \\n',P)"
   ]
  },
  {
   "cell_type": "markdown",
   "id": "57cd6655",
   "metadata": {},
   "source": [
    "Task 3\n",
    "Consider the following system of linear equations:\n",
    "3x+2y-z=25\n",
    "2x-y+4z=19\n",
    "4x-2y+3z=18\n",
    "Represent the system of linear equations using Matrix\n"
   ]
  },
  {
   "cell_type": "code",
   "execution_count": 10,
   "id": "d8ed1732",
   "metadata": {},
   "outputs": [
    {
     "ename": "NameError",
     "evalue": "name 'x' is not defined",
     "output_type": "error",
     "traceback": [
      "\u001b[1;31m---------------------------------------------------------------------------\u001b[0m",
      "\u001b[1;31mNameError\u001b[0m                                 Traceback (most recent call last)",
      "\u001b[1;32m<ipython-input-10-542d045a76c1>\u001b[0m in \u001b[0;36m<module>\u001b[1;34m\u001b[0m\n\u001b[0;32m      1\u001b[0m \u001b[0mM\u001b[0m\u001b[1;33m=\u001b[0m\u001b[0mnp\u001b[0m\u001b[1;33m.\u001b[0m\u001b[0marray\u001b[0m\u001b[1;33m(\u001b[0m\u001b[1;33m[\u001b[0m\u001b[1;33m[\u001b[0m\u001b[1;36m3\u001b[0m\u001b[1;33m,\u001b[0m\u001b[1;36m2\u001b[0m\u001b[1;33m,\u001b[0m\u001b[1;33m-\u001b[0m\u001b[1;36m1\u001b[0m\u001b[1;33m]\u001b[0m\u001b[1;33m,\u001b[0m\u001b[1;33m[\u001b[0m\u001b[1;36m2\u001b[0m\u001b[1;33m,\u001b[0m\u001b[1;33m-\u001b[0m\u001b[1;36m1\u001b[0m\u001b[1;33m,\u001b[0m\u001b[1;36m4\u001b[0m\u001b[1;33m]\u001b[0m\u001b[1;33m,\u001b[0m\u001b[1;33m[\u001b[0m\u001b[1;36m4\u001b[0m\u001b[1;33m,\u001b[0m\u001b[1;33m-\u001b[0m\u001b[1;36m2\u001b[0m\u001b[1;33m,\u001b[0m\u001b[1;36m3\u001b[0m\u001b[1;33m]\u001b[0m\u001b[1;33m]\u001b[0m\u001b[1;33m,\u001b[0m \u001b[0mdtype\u001b[0m\u001b[1;33m=\u001b[0m\u001b[1;34m'int'\u001b[0m\u001b[1;33m)\u001b[0m\u001b[1;33m\u001b[0m\u001b[1;33m\u001b[0m\u001b[0m\n\u001b[1;32m----> 2\u001b[1;33m \u001b[0mX\u001b[0m\u001b[1;33m=\u001b[0m\u001b[0mnp\u001b[0m\u001b[1;33m.\u001b[0m\u001b[0marray\u001b[0m\u001b[1;33m(\u001b[0m\u001b[1;33m[\u001b[0m\u001b[1;33m[\u001b[0m\u001b[0mx\u001b[0m\u001b[1;33m]\u001b[0m\u001b[1;33m,\u001b[0m\u001b[1;33m[\u001b[0m\u001b[0my\u001b[0m\u001b[1;33m]\u001b[0m\u001b[1;33m,\u001b[0m\u001b[1;33m[\u001b[0m\u001b[0mz\u001b[0m\u001b[1;33m]\u001b[0m\u001b[1;33m]\u001b[0m\u001b[1;33m,\u001b[0m \u001b[0mdtype\u001b[0m\u001b[1;33m=\u001b[0m\u001b[1;34m'int'\u001b[0m\u001b[1;33m)\u001b[0m\u001b[1;33m\u001b[0m\u001b[1;33m\u001b[0m\u001b[0m\n\u001b[0m\u001b[0;32m      3\u001b[0m \u001b[0mC\u001b[0m\u001b[1;33m=\u001b[0m\u001b[0mnp\u001b[0m\u001b[1;33m.\u001b[0m\u001b[0marray\u001b[0m\u001b[1;33m(\u001b[0m\u001b[1;33m[\u001b[0m\u001b[1;33m[\u001b[0m\u001b[1;36m25\u001b[0m\u001b[1;33m]\u001b[0m\u001b[1;33m,\u001b[0m\u001b[1;33m[\u001b[0m\u001b[1;36m19\u001b[0m\u001b[1;33m]\u001b[0m\u001b[1;33m,\u001b[0m\u001b[1;33m[\u001b[0m\u001b[1;36m18\u001b[0m\u001b[1;33m]\u001b[0m\u001b[1;33m]\u001b[0m\u001b[1;33m,\u001b[0m \u001b[0mdtype\u001b[0m\u001b[1;33m=\u001b[0m\u001b[1;34m'int'\u001b[0m\u001b[1;33m)\u001b[0m\u001b[1;33m\u001b[0m\u001b[1;33m\u001b[0m\u001b[0m\n\u001b[0;32m      4\u001b[0m \u001b[0mprint\u001b[0m\u001b[1;33m(\u001b[0m\u001b[0mM\u001b[0m\u001b[1;33m,\u001b[0m\u001b[0mX\u001b[0m\u001b[1;33m,\u001b[0m\u001b[1;34m'='\u001b[0m\u001b[1;33m,\u001b[0m\u001b[0mC\u001b[0m\u001b[1;33m)\u001b[0m\u001b[1;33m\u001b[0m\u001b[1;33m\u001b[0m\u001b[0m\n",
      "\u001b[1;31mNameError\u001b[0m: name 'x' is not defined"
     ]
    }
   ],
   "source": [
    "M=np.array([[3,2,-1],[2,-1,4],[4,-2,3]], dtype='int')\n",
    "X=np.array([[x],[y],[z]], dtype='int')\n",
    "C=np.array([[25],[19],[18]], dtype='int')\n",
    "print(M,X,'=',C)"
   ]
  },
  {
   "cell_type": "markdown",
   "id": "cc8887dd",
   "metadata": {},
   "source": [
    "Task 4\n",
    "Provide the algebraic steps for solving the system of linear equations from Task 3 by \n",
    "using matrix notation."
   ]
  },
  {
   "cell_type": "markdown",
   "id": "aa7cb2d8",
   "metadata": {},
   "source": [
    "Task 5\n",
    "Solve the system of linear equations from Task 3 by using Python script utilising matrix \n",
    "multiplication and inverse matrix."
   ]
  },
  {
   "cell_type": "code",
   "execution_count": 11,
   "id": "6f221a05",
   "metadata": {},
   "outputs": [
    {
     "name": "stdout",
     "output_type": "stream",
     "text": [
      "[[5.]\n",
      " [7.]\n",
      " [4.]]\n"
     ]
    }
   ],
   "source": [
    "# Initializing Matrix M with given integer values\n",
    "M=np.array([[3,2,-1],[2,-1,4],[4,-2,3]], dtype='int')\n",
    "# Initializing the Constant in C\n",
    "C=np.array([[25],[19],[18]], dtype='int')\n",
    "# finding the inverse of Matrix M\n",
    "I= np.linalg.inv(M)\n",
    "# finding the product of inverse and Constant\n",
    "X=np.matmul(I,C)\n",
    "# displaying the product as X\n",
    "print(X)"
   ]
  },
  {
   "cell_type": "markdown",
   "id": "f2adee13",
   "metadata": {},
   "source": [
    "                                                Data Visualisation"
   ]
  },
  {
   "cell_type": "markdown",
   "id": "85608917",
   "metadata": {},
   "source": [
    "Task 1\n",
    "Develop a graph which represents the public transport network of a city of your choice. \n",
    "Some cities have extensive public transport networks. In such case, represent minimum \n",
    "3 lines with minimum 4 stations on each line. When visualising the network, use different \n",
    "colours for the different lines and their corresponding stations. Provide attributes to the \n",
    "edges which correspond to the distances between stations and visualise them. If the actual \n",
    "distances between the stations are not available, approximate them by using online map \n",
    "services. Visualise the names of the stations."
   ]
  },
  {
   "cell_type": "code",
   "execution_count": 34,
   "id": "7a600da6",
   "metadata": {},
   "outputs": [
    {
     "data": {
      "image/png": "[encoded data removed]",
      "text/plain": [
       "<Figure size 1296x720 with 1 Axes>"
      ]
     },
     "metadata": {},
     "output_type": "display_data"
    }
   ],
   "source": [
    "# importing networkx library as nx\n",
    "import networkx as nx\n",
    "\n",
    "# Creating a graph object\n",
    "MyNetworkGraph = nx.Graph()\n",
    "\n",
    "# Adding the  nodes\n",
    "# IndianRed Line\n",
    "MyNetworkGraph.add_node('Hounslow East', npos=(20, 10), ccn='#CD5C5C')\n",
    "MyNetworkGraph.add_node('Hounslow West', npos=(50, 50), ccn='#CD5C5C')\n",
    "MyNetworkGraph.add_node('Uxbridge', npos=(50, 90), ccn='#CD5C5C')\n",
    "MyNetworkGraph.add_node('Ruislip', npos=(75, 90), ccn='#CD5C5C')\n",
    "# Yellow Line\n",
    "MyNetworkGraph.add_node('Farm', npos=(90, 90), ccn='#DFFF00')\n",
    "MyNetworkGraph.add_node('Heston', npos=(175, 90), ccn='#DFFF00')\n",
    "MyNetworkGraph.add_node('SouthHall', npos=(175, 70), ccn='#DFFF00')\n",
    "# Grey Line\n",
    "MyNetworkGraph.add_node('Hammersmith', npos=(150, 25), ccn='#CCCCFF')\n",
    "MyNetworkGraph.add_node('Thorney', npos=(130, 55), ccn='#CCCCFF')\n",
    "MyNetworkGraph.add_node('Ealing', npos=(100, 65), ccn='#CCCCFF')\n",
    "\n",
    "# Connecting the nodes\n",
    "# IndianRed Line\n",
    "MyNetworkGraph.add_edge('Hounslow East', 'Hounslow West', cce='#CD5C5C')\n",
    "MyNetworkGraph.add_edge('Hounslow West', 'Uxbridge', cce='#CD5C5C')\n",
    "MyNetworkGraph.add_edge('Uxbridge', 'Ruislip', cce='#CD5C5C')\n",
    "# Yellow Line\n",
    "MyNetworkGraph.add_edge('Hounslow West', 'Farm', cce='#DFFF00')\n",
    "MyNetworkGraph.add_edge('Farm', 'Heston', cce='#DFFF00')\n",
    "MyNetworkGraph.add_edge('Heston', 'SouthHall', cce='#DFFF00')\n",
    "# Grey Line\n",
    "MyNetworkGraph.add_edge('Hammersmith', 'Thorney', cce='#CCCCFF')\n",
    "MyNetworkGraph.add_edge('Thorney', 'Ealing', cce='#CCCCFF')\n",
    "MyNetworkGraph.add_edge('Ealing', 'Hounslow West', cce='#CCCCFF')\n",
    "\n",
    "# Extract attributes from the graph to dictionaries\n",
    "pos = nx.get_node_attributes(MyNetworkGraph, 'npos')\n",
    "nodecolour = nx.get_node_attributes(MyNetworkGraph, 'ccn')\n",
    "edgecolour = nx.get_edge_attributes(MyNetworkGraph, 'cce')\n",
    "\n",
    "# Place the dictionary values in lists\n",
    "NodeList = list(nodecolour.values())\n",
    "EdgeList = list(edgecolour.values())\n",
    "\n",
    "# Set the size of the figure\n",
    "plt.figure(figsize=(18, 10))\n",
    "\n",
    "# Display the names of the stations\n",
    "plt.text(20, 30, s='1 km', rotation=15)\n",
    "plt.text(32, 45, s='', rotation=15)\n",
    "plt.text(40, 75, s='5 km ', rotation=15)\n",
    "plt.text(60, 85, s='1 km', rotation=15)\n",
    "\n",
    "plt.text(80, 70, s='1 km', rotation=15)\n",
    "plt.text(135, 85, s='0.5 km', rotation=15)\n",
    "plt.text(160, 75, s='3 km', rotation=15)\n",
    "\n",
    "plt.text(128, 30, s='6 km', rotation=15)\n",
    "plt.text(110, 58, s='3 km', rotation=15)\n",
    "plt.text(70, 52, s='2 km', rotation=15)\n",
    "\n",
    "# Draw the nodes and the edges\n",
    "nx.draw_networkx(MyNetworkGraph, pos, node_color=NodeList)\n",
    "nx.draw_networkx_edges(MyNetworkGraph, pos, edge_color=EdgeList)\n",
    "\n",
    "# Visualise the graph\n",
    "plt.show()"
   ]
  },
  {
   "cell_type": "markdown",
   "id": "8db95e31",
   "metadata": {},
   "source": [
    "Task 2\n",
    "Find the average monthly temperatures of three cities of your choice. Represent the data \n",
    "by using a heat map. Provide a colour scale for guidance. Allow the user to specify a \n",
    "threshold for the heat map. Based on this threshold value, use different base colours when\n",
    "representing the data points."
   ]
  },
  {
   "cell_type": "code",
   "execution_count": 36,
   "id": "906c75ba",
   "metadata": {},
   "outputs": [
    {
     "name": "stdout",
     "output_type": "stream",
     "text": [
      "    City  1   2   3   4   5   6   7   8   9  10  11  12\n",
      "0  Avery  6   8  11  16  21  25  27  26  23  17  10   6\n",
      "1   Bath  4   6  12  17  21  25  28  27  23  17  11   6\n",
      "2   Maze  9  11  13  15  18  21  23  23  21  17  13   9\n"
     ]
    },
    {
     "data": {
      "image/png": "[encoded data removed]",
      "text/plain": [
       "<Figure size 432x288 with 1 Axes>"
      ]
     },
     "metadata": {},
     "output_type": "display_data"
    },
    {
     "data": {
      "image/png": "[encoded data removed]",
      "text/plain": [
       "<Figure size 432x288 with 1 Axes>"
      ]
     },
     "metadata": {
      "needs_background": "light"
     },
     "output_type": "display_data"
    }
   ],
   "source": [
    "# importing pandas library as pd\n",
    "import pandas as pd\n",
    "# This subroutine encapsulates the 'plot' method\n",
    "def DrawBox(x, y, size, r, g, b):\n",
    "    if r < 0:\n",
    "        r = int(0)\n",
    "    if g < 0:\n",
    "        g = int(0)\n",
    "    if b < 0:\n",
    "        b = int(0)\n",
    "    if r > 255:\n",
    "        r = int(255)\n",
    "    if g > 255:\n",
    "        g = int(255)\n",
    "    if b > 255:\n",
    "        b = int(255)\n",
    "    for i in range(0, int(size)):\n",
    "        plt.plot([x, x + size], [y + i, y + i], '#{:02x}{:02x}{:02x}'.format(r, g, b))\n",
    "\n",
    "\n",
    "# Store the dataset into a data frame\n",
    "df = pd.read_csv('C:/Users/Rabin Thapa Kshetry/Downloads/HeatMap.csv')\n",
    "# Print the content on the screen\n",
    "print(df.head())\n",
    "\n",
    "# Set the plot\n",
    "plt.axis([0, 600, 0, 400])\n",
    "plt.xticks([])\n",
    "plt.yticks([])\n",
    "\n",
    "# minimum and maximum\n",
    "Min = int(min(df.min(numeric_only=True)))\n",
    "Max = int(max(df.max(numeric_only=True)))\n",
    "\n",
    "BoxSize = int(40)\n",
    "OffsetX = int(15)\n",
    "OffsetY = int(12)\n",
    "\n",
    "# Generating the heat map\n",
    "for i in range(0, df.shape[0]):\n",
    "    for j in range(1, df.shape[1]):\n",
    "        ColourCode = int(((df.values[i, j]-Min)/(Max-Min))*255)\n",
    "        DrawBox(20+BoxSize*j, 300-BoxSize*i, BoxSize, ColourCode, 0, 0)\n",
    "        plt.text(OffsetX+20+BoxSize*j, OffsetY+300-BoxSize*i, str(df.values[i, j]), color='white')\n",
    "\n",
    "# Generating the scale\n",
    "for i in range(0, 3):\n",
    "    plt.plot([560, 580], [i + 60, i + 60], '#{:02x}{:02x}{:02x}'.format(int(i), 0, 0))\n",
    "plt.text(585, 58, Min)\n",
    "plt.text(585, 312, Max)\n",
    "\n",
    "plt.text(72, 20, 'Jan')\n",
    "plt.text(112, 20, 'Feb')\n",
    "plt.text(152, 20, 'Mar')\n",
    "plt.text(192, 20, 'Apr')\n",
    "plt.text(232, 20, 'May')\n",
    "plt.text(272, 20, 'Jun')\n",
    "plt.text(312, 20, 'Jul')\n",
    "plt.text(352, 20, 'Aug')\n",
    "plt.text(392, 20, 'Sep')\n",
    "plt.text(432, 20, 'Oct')\n",
    "plt.text(472, 20, 'Nov')\n",
    "plt.text(512, 20, 'Dec')\n",
    "\n",
    "plt.text(5, 315, str(df.values[0, 0]))\n",
    "plt.text(5, 275, str(df.values[1, 0]))\n",
    "plt.text(5, 235, str(df.values[2, 0]))\n",
    "\n",
    "#displaying the heat map\n",
    "plt.show()\n",
    "# maintaining the threshold\n",
    "Threshold=int(3)\n",
    "# comparing with the thrreshold\n",
    "if df.values[i, j] > Threshold:\n",
    "    DrawBox(20+BoxSize*j, 300-BoxSize*i, BoxSize, 0, 0, ColourCode)\n",
    "if df.values[i, j] <= Threshold:\n",
    "    DrawBox(20+BoxSize*j, 300-BoxSize*i, BoxSize, ColourCode, 0, 0)"
   ]
  },
  {
   "cell_type": "code",
   "execution_count": null,
   "id": "fba0eff8",
   "metadata": {},
   "outputs": [],
   "source": []
  }
 ],
 "metadata": {
  "kernelspec": {
   "display_name": "Python 3",
   "language": "python",
   "name": "python3"
  },
  "language_info": {
   "codemirror_mode": {
    "name": "ipython",
    "version": 3
   },
   "file_extension": ".py",
   "mimetype": "text/x-python",
   "name": "python",
   "nbconvert_exporter": "python",
   "pygments_lexer": "ipython3",
   "version": "3.8.8"
  }
 },
 "nbformat": 4,
 "nbformat_minor": 5
}
